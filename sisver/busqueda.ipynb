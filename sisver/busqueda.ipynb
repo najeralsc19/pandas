{
 "cells": [
  {
   "cell_type": "code",
   "execution_count": 43,
   "metadata": {},
   "outputs": [],
   "source": [
    "import pandas as pd\n",
    "import unicodedata\n",
    "\n",
    "def acentos(value):\n",
    "    if isinstance(value, str):\n",
    "        value = unicodedata.normalize('NFKD', value).encode('ascii', errors='ignore').decode('utf-8')\n",
    "        value = value.strip().upper()\n",
    "    elif pd.isnull(value):\n",
    "        value=''\n",
    "    return value "
   ]
  },
  {
   "cell_type": "code",
   "execution_count": null,
   "metadata": {},
   "outputs": [],
   "source": [
    "\n",
    "base = pd.read_csv(\"E://files_pandas//sisver//AGEEML_202410311056515.csv\")\n",
    "df = base[base['NOM_ENT'] == \"Hidalgo\"]\n",
    "df_acot = df[['CVE_ENT','CVE_MUN', 'NOM_MUN', 'CVE_LOC', 'NOM_LOC']]\n",
    "df_acot = df_acot.map(acentos)\n",
    "df_acot = df_acot.rename(columns={'CVE_ENT': 'CVENTINE', 'CVE_MUN': 'CVEMUNI', 'NOM_MUN': 'MPIORESI', 'CVE_LOC': 'CVELOCAL', 'NOM_LOC': 'LOCRESI'})\n"
   ]
  },
  {
   "cell_type": "code",
   "execution_count": null,
   "metadata": {},
   "outputs": [],
   "source": [
    "sisv = pd.read_excel(\"E://files_pandas//sisver//BASE SISVER 291024.xlsx\")\n",
    "cols = ['CVENTINE','CVEMUNI', 'MPIORESI', 'CVELOCAL', 'LOCRESI']\n",
    "print(sisv[cols])"
   ]
  },
  {
   "cell_type": "markdown",
   "metadata": {},
   "source": [
    "Merge"
   ]
  },
  {
   "cell_type": "code",
   "execution_count": 46,
   "metadata": {},
   "outputs": [],
   "source": [
    "\"\"\"df_merge = pd.merge(\n",
    "    sisv,\n",
    "    df_acot[['CVENTINE','CVEMUNI', 'MPIORESI', 'CVELOCAL', 'LOCRESI']],\n",
    "    on=['CVENTINE','CVEMUNI', 'CVELOCAL'],\n",
    "    how='left',\n",
    "    suffixes=('','_comparado')\n",
    ")\n",
    "\n",
    "df_merge.to_excel(\"E://files_pandas//sisver//nvo.xlsx\")\n",
    "\"\"\"\n",
    "\n",
    "\n",
    "import pandas as pd\n",
    "\n",
    "# Realizar el merge\n",
    "df_merge = pd.merge(\n",
    "    sisv,\n",
    "    df_acot[['CVENTINE', 'CVEMUNI', 'MPIORESI', 'CVELOCAL', 'LOCRESI']],\n",
    "    on=['CVENTINE', 'CVEMUNI', 'CVELOCAL'],\n",
    "    how='left',\n",
    "    suffixes=('', '_comparado')\n",
    ")\n",
    "\n",
    "df_merge.to_excel(\"E://files_pandas//sisver//nvo.xlsx\")"
   ]
  },
  {
   "cell_type": "code",
   "execution_count": 1,
   "metadata": {},
   "outputs": [
    {
     "name": "stdout",
     "output_type": "stream",
     "text": [
      "  CVE_ENT CVE_MUN CVEGEO         NOM_ENT          AREA   PERIMETER  \\\n",
      "0      01     001  01001  Aguascalientes  116635.92455  1166.35925   \n",
      "1      01     002  01002  Aguascalientes   54337.42654   543.37427   \n",
      "2      01     003  01003  Aguascalientes   92335.78320   923.35783   \n",
      "3      01     004  01004  Aguascalientes   12838.35453   128.38355   \n",
      "4      01     005  01005  Aguascalientes   49989.50926   499.89509   \n",
      "\n",
      "          NOM_MUN  COV_  COV_ID  \\\n",
      "0  Aguascalientes     0       1   \n",
      "1        Asientos     1       2   \n",
      "2        Calvillo     2       3   \n",
      "3          CosÃ­o     3       4   \n",
      "4   JesÃºs MarÃ­a     4       5   \n",
      "\n",
      "                                            geometry  \n",
      "0  POLYGON ((-102.09775 22.02325, -102.09857 22.0...  \n",
      "1  POLYGON ((-101.99941 22.21951, -101.9994 22.21...  \n",
      "2  POLYGON ((-102.57625 21.96778, -102.57626 21.9...  \n",
      "3  POLYGON ((-102.2532 22.37449, -102.25239 22.37...  \n",
      "4  POLYGON ((-102.31034 22.03716, -102.30653 22.0...  \n"
     ]
    }
   ],
   "source": [
    "import geopandas as gpd\n",
    "\n",
    "# Ruta al archivo shapefile\n",
    "shapefile_path = \"E://files_pandas//sisver//muni_2018gw//muni_2018gw.shp\"\n",
    "\n",
    "# Cargar el archivo shapefile\n",
    "gdf = gpd.read_file(shapefile_path)\n",
    "\n",
    "# Mostrar las primeras filas del GeoDataFrame\n",
    "print(gdf.head())\n"
   ]
  }
 ],
 "metadata": {
  "kernelspec": {
   "display_name": "pandas",
   "language": "python",
   "name": "python3"
  },
  "language_info": {
   "codemirror_mode": {
    "name": "ipython",
    "version": 3
   },
   "file_extension": ".py",
   "mimetype": "text/x-python",
   "name": "python",
   "nbconvert_exporter": "python",
   "pygments_lexer": "ipython3",
   "version": "3.12.6"
  }
 },
 "nbformat": 4,
 "nbformat_minor": 2
}
