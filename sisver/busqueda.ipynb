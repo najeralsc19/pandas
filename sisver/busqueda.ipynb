{
 "cells": [
  {
   "cell_type": "code",
   "execution_count": 35,
   "metadata": {},
   "outputs": [],
   "source": [
    "import pandas as pd\n",
    "import unicodedata\n",
    "\n",
    "def acentos(value):\n",
    "    if isinstance(value, str):\n",
    "        value = unicodedata.normalize('NFKD', value).encode('ascii', errors='ignore').decode('utf-8')\n",
    "        value = value.strip().upper()\n",
    "    elif pd.isnull(value):\n",
    "        value=''\n",
    "    return value "
   ]
  },
  {
   "cell_type": "code",
   "execution_count": 36,
   "metadata": {},
   "outputs": [
    {
     "name": "stdout",
     "output_type": "stream",
     "text": [
      "    CVENTINE  CVEMUNI MPIORESI  CVELOCAL                             LOCRESI\n",
      "0         13        1  ACATLAN         1                             ACATLAN\n",
      "1         13        1  ACATLAN         2  AGUSTIN OLVERA SECCION I [COLONIA]\n",
      "2         13        1  ACATLAN         3   ALCHOLOYA (EL SALTO DE ALCHOLOYA)\n",
      "3         13        1  ACATLAN         4                            ALMOLOYA\n",
      "4         13        1  ACATLAN         5                           LOS ARCOS\n",
      "5         13        1  ACATLAN         6             BENITO JUAREZ [COLONIA]\n",
      "6         13        1  ACATLAN         7                         BUENA VISTA\n",
      "7         13        1  ACATLAN         8                           CHAUTENCO\n",
      "8         13        1  ACATLAN        10                          ENCINILLOS\n",
      "9         13        1  ACATLAN        11                          HUEYOTLIPA\n",
      "10        13        1  ACATLAN        12             EL HUIZACHE Y LA PALOMA\n",
      "11        13        1  ACATLAN        13                          LOMA LARGA\n",
      "12        13        1  ACATLAN        15                     METEPEC PRIMERO\n",
      "13        13        1  ACATLAN        16                EL MILAGRO SAN SIMON\n",
      "14        13        1  ACATLAN        17                          MIXQUIAPAN\n"
     ]
    }
   ],
   "source": [
    "\n",
    "import pandas as pd\n",
    "\n",
    "# Cargar el archivo CSV\n",
    "base = pd.read_csv(\"E://files_pandas//sisver//AGEEML_202410311056515.csv\")\n",
    "\n",
    "# Filtrar por 'NOM_ENT' igual a 'Hidalgo'\n",
    "df = base[base['NOM_ENT'] == \"Hidalgo\"]\n",
    "\n",
    "# Seleccionar columnas específicas\n",
    "df_acot = df[['CVE_ENT','CVE_MUN', 'NOM_MUN', 'CVE_LOC', 'NOM_LOC']]\n",
    "\n",
    "df_acot = df_acot.map(acentos)\n",
    "\n",
    "# Renombrar columnas específicas\n",
    "df_acot = df_acot.rename(columns={'CVE_ENT': 'CVENTINE', 'CVE_MUN': 'CVEMUNI', 'NOM_MUN': 'MPIORESI', 'CVE_LOC': 'CVELOCAL', 'NOM_LOC': 'LOCRESI'})\n",
    "\n",
    "print(df_acot.head(15))"
   ]
  },
  {
   "cell_type": "code",
   "execution_count": 37,
   "metadata": {},
   "outputs": [
    {
     "name": "stdout",
     "output_type": "stream",
     "text": [
      "      CVENTINE  CVEMUNI               MPIORESI  CVELOCAL  \\\n",
      "0           13        2           ACAXOCHITLAN         7   \n",
      "1           13       51  MINERAL DE LA REFORMA        27   \n",
      "2           13       51  MINERAL DE LA REFORMA        63   \n",
      "3           13       51  MINERAL DE LA REFORMA        26   \n",
      "4           13       48        PACHUCA DE SOTO         1   \n",
      "...        ...      ...                    ...       ...   \n",
      "7253        13       51  MINERAL DE LA REFORMA        27   \n",
      "7254        13       48        PACHUCA DE SOTO         1   \n",
      "7255        13       69               TIZAYUCA        56   \n",
      "7256        13       83               ZEMPOALA        29   \n",
      "7257        13       51  MINERAL DE LA REFORMA        57   \n",
      "\n",
      "                         LOCRESI  \n",
      "0                      LOS REYES  \n",
      "1                 LA PROVIDENCIA  \n",
      "2               COLINAS DE PLATA  \n",
      "3                  EL PORTEZUELO  \n",
      "4                PACHUCA DE SOTO  \n",
      "...                          ...  \n",
      "7253              LA PROVIDENCIA  \n",
      "7254             PACHUCA DE SOTO  \n",
      "7255                 EL PEDREGAL  \n",
      "7256        SAN PEDRO TLAQUILPAN  \n",
      "7257  FRACCIONAMIENTO LA REFORMA  \n",
      "\n",
      "[7258 rows x 5 columns]\n"
     ]
    }
   ],
   "source": [
    "sisv = pd.read_excel(\"E://files_pandas//sisver//BASE SISVER 291024.xlsx\")\n",
    "cols = ['CVENTINE','CVEMUNI', 'MPIORESI', 'CVELOCAL', 'LOCRESI']\n",
    "print(sisv[cols])"
   ]
  },
  {
   "cell_type": "markdown",
   "metadata": {},
   "source": [
    "Merge"
   ]
  },
  {
   "cell_type": "code",
   "execution_count": null,
   "metadata": {},
   "outputs": [],
   "source": [
    "\"\"\"df_merge = pd.merge(\n",
    "    sisv,\n",
    "    df_acot[['CVENTINE','CVEMUNI', 'MPIORESI', 'CVELOCAL', 'LOCRESI']],\n",
    "    on=['CVENTINE','CVEMUNI', 'CVELOCAL'],\n",
    "    how='left',\n",
    "    suffixes=('','_comparado')\n",
    ")\n",
    "\n",
    "df_merge.to_excel(\"E://files_pandas//sisver//nvo.xlsx\")\n",
    "\"\"\"\n",
    "\n",
    "\n",
    "import pandas as pd\n",
    "\n",
    "# Realizar el merge\n",
    "df_merge = pd.merge(\n",
    "    sisv,\n",
    "    df_acot[['CVENTINE', 'CVEMUNI', 'MPIORESI', 'CVELOCAL', 'LOCRESI']],\n",
    "    on=['CVENTINE', 'CVEMUNI', 'CVELOCAL'],\n",
    "    how='left',\n",
    "    suffixes=('', '_comparado')\n",
    ")\n",
    "\n",
    "# Insertar las columnas \"CVEMUNI\" y \"CVELOCAL\" de df_acot justo después de las correspondientes en df_merge\n",
    "df_merge.insert(df_merge.columns.get_loc('CVEMUNI') + 1, 'CVEMUNI_acot', df_acot['CVEMUNI'])\n",
    "df_merge.insert(df_merge.columns.get_loc('CVELOCAL') + 1, 'CVELOCAL_acot', df_acot['CVELOCAL'])\n",
    "\n",
    "# Mostrar el DataFrame resultante\n",
    "print(df_merge)\n",
    "\n",
    "\n",
    "df_merge.to_excel(\"E://files_pandas//sisver//nvo.xlsx\")"
   ]
  }
 ],
 "metadata": {
  "kernelspec": {
   "display_name": "pandas",
   "language": "python",
   "name": "python3"
  },
  "language_info": {
   "codemirror_mode": {
    "name": "ipython",
    "version": 3
   },
   "file_extension": ".py",
   "mimetype": "text/x-python",
   "name": "python",
   "nbconvert_exporter": "python",
   "pygments_lexer": "ipython3",
   "version": "3.12.6"
  }
 },
 "nbformat": 4,
 "nbformat_minor": 2
}
