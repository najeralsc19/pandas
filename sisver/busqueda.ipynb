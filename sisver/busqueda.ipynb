{
 "cells": [
  {
   "cell_type": "code",
   "execution_count": 43,
   "metadata": {},
   "outputs": [],
   "source": [
    "import pandas as pd\n",
    "import unicodedata\n",
    "\n",
    "def acentos(value):\n",
    "    if isinstance(value, str):\n",
    "        value = unicodedata.normalize('NFKD', value).encode('ascii', errors='ignore').decode('utf-8')\n",
    "        value = value.strip().upper()\n",
    "    elif pd.isnull(value):\n",
    "        value=''\n",
    "    return value "
   ]
  },
  {
   "cell_type": "code",
   "execution_count": null,
   "metadata": {},
   "outputs": [],
   "source": [
    "\n",
    "base = pd.read_csv(\"E://files_pandas//sisver//AGEEML_202410311056515.csv\")\n",
    "df = base[base['NOM_ENT'] == \"Hidalgo\"]\n",
    "df_acot = df[['CVE_ENT','CVE_MUN', 'NOM_MUN', 'CVE_LOC', 'NOM_LOC']]\n",
    "df_acot = df_acot.map(acentos)\n",
    "df_acot = df_acot.rename(columns={'CVE_ENT': 'CVENTINE', 'CVE_MUN': 'CVEMUNI', 'NOM_MUN': 'MPIORESI', 'CVE_LOC': 'CVELOCAL', 'NOM_LOC': 'LOCRESI'})\n"
   ]
  },
  {
   "cell_type": "code",
   "execution_count": null,
   "metadata": {},
   "outputs": [],
   "source": [
    "sisv = pd.read_excel(\"E://files_pandas//sisver//BASE SISVER 291024.xlsx\")\n",
    "cols = ['CVENTINE','CVEMUNI', 'MPIORESI', 'CVELOCAL', 'LOCRESI']\n",
    "print(sisv[cols])"
   ]
  },
  {
   "cell_type": "markdown",
   "metadata": {},
   "source": [
    "Merge"
   ]
  },
  {
   "cell_type": "code",
   "execution_count": 46,
   "metadata": {},
   "outputs": [],
   "source": [
    "\"\"\"df_merge = pd.merge(\n",
    "    sisv,\n",
    "    df_acot[['CVENTINE','CVEMUNI', 'MPIORESI', 'CVELOCAL', 'LOCRESI']],\n",
    "    on=['CVENTINE','CVEMUNI', 'CVELOCAL'],\n",
    "    how='left',\n",
    "    suffixes=('','_comparado')\n",
    ")\n",
    "\n",
    "df_merge.to_excel(\"E://files_pandas//sisver//nvo.xlsx\")\n",
    "\"\"\"\n",
    "\n",
    "\n",
    "import pandas as pd\n",
    "\n",
    "# Realizar el merge\n",
    "df_merge = pd.merge(\n",
    "    sisv,\n",
    "    df_acot[['CVENTINE', 'CVEMUNI', 'MPIORESI', 'CVELOCAL', 'LOCRESI']],\n",
    "    on=['CVENTINE', 'CVEMUNI', 'CVELOCAL'],\n",
    "    how='left',\n",
    "    suffixes=('', '_comparado')\n",
    ")\n",
    "\n",
    "df_merge.to_excel(\"E://files_pandas//sisver//nvo.xlsx\")"
   ]
  },
  {
   "cell_type": "code",
   "execution_count": null,
   "metadata": {},
   "outputs": [],
   "source": [
    "import geopandas as gpd\n",
    "\n",
    "# Ruta al archivo shapefile\n",
    "shapefile_path = \"E://files_pandas//sisver//muni_2018gw//muni_2018gw.shp\"\n",
    "\n",
    "# Cargar el archivo shapefile\n",
    "gdf = gpd.read_file(shapefile_path)\n",
    "\n",
    "# Mostrar las primeras filas del GeoDataFrame\n",
    "print(gdf.head())\n"
   ]
  }
 ],
 "metadata": {
  "kernelspec": {
   "display_name": "pandas",
   "language": "python",
   "name": "python3"
  },
  "language_info": {
   "codemirror_mode": {
    "name": "ipython",
    "version": 3
   },
   "file_extension": ".py",
   "mimetype": "text/x-python",
   "name": "python",
   "nbconvert_exporter": "python",
   "pygments_lexer": "ipython3",
   "version": "3.12.6"
  }
 },
 "nbformat": 4,
 "nbformat_minor": 2
}
