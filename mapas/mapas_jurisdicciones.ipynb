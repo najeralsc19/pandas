{
 "cells": [
  {
   "cell_type": "code",
   "execution_count": 94,
   "metadata": {},
   "outputs": [],
   "source": [
    "import pandas as pd\n",
    "import folium\n",
    "from folium.plugins import MarkerCluster\n",
    "from folium import LayerControl\n",
    "import geopandas as gpd"
   ]
  },
  {
   "cell_type": "code",
   "execution_count": 95,
   "metadata": {},
   "outputs": [],
   "source": [
    "data = pd.read_excel(\"E://files_pandas//sisver//Unidades.xlsx\")\n",
    "data = data[['NOMBRE DE LA UNIDAD', 'LATITUD', 'LONGITUD']]\n",
    "data['LATITUD'] = pd.to_numeric(data['LATITUD'], errors='coerce')\n",
    "data['LONGITUD'] = pd.to_numeric(data['LONGITUD'], errors='coerce')\n",
    "data = data.dropna(subset=['LATITUD', 'LONGITUD'])"
   ]
  },
  {
   "cell_type": "code",
   "execution_count": null,
   "metadata": {},
   "outputs": [
    {
     "ename": "NameError",
     "evalue": "name 'data' is not defined",
     "output_type": "error",
     "traceback": [
      "\u001b[1;31m---------------------------------------------------------------------------\u001b[0m",
      "\u001b[1;31mNameError\u001b[0m                                 Traceback (most recent call last)",
      "Cell \u001b[1;32mIn[1], line 17\u001b[0m\n\u001b[0;32m     14\u001b[0m hgo \u001b[38;5;241m=\u001b[39m gdf[gdf[\u001b[38;5;124m'\u001b[39m\u001b[38;5;124mNOM_ENT\u001b[39m\u001b[38;5;124m'\u001b[39m] \u001b[38;5;241m==\u001b[39m \u001b[38;5;124m'\u001b[39m\u001b[38;5;124mHidalgo\u001b[39m\u001b[38;5;124m'\u001b[39m]\n\u001b[0;32m     16\u001b[0m \u001b[38;5;66;03m# Crear el mapa centrado en la ubicación media de los datos\u001b[39;00m\n\u001b[1;32m---> 17\u001b[0m mapa \u001b[38;5;241m=\u001b[39m folium\u001b[38;5;241m.\u001b[39mMap(location\u001b[38;5;241m=\u001b[39m[\u001b[43mdata\u001b[49m[\u001b[38;5;124m'\u001b[39m\u001b[38;5;124mLATITUD\u001b[39m\u001b[38;5;124m'\u001b[39m]\u001b[38;5;241m.\u001b[39mmean(), data[\u001b[38;5;124m'\u001b[39m\u001b[38;5;124mLONGITUD\u001b[39m\u001b[38;5;124m'\u001b[39m]\u001b[38;5;241m.\u001b[39mmean()], zoom_start\u001b[38;5;241m=\u001b[39m\u001b[38;5;241m10\u001b[39m)\n\u001b[0;32m     19\u001b[0m \u001b[38;5;66;03m# Añadir capa de clúster\u001b[39;00m\n\u001b[0;32m     20\u001b[0m marker_cluster \u001b[38;5;241m=\u001b[39m MarkerCluster()\u001b[38;5;241m.\u001b[39madd_to(mapa)\n",
      "\u001b[1;31mNameError\u001b[0m: name 'data' is not defined"
     ]
    }
   ],
   "source": [
    "\n",
    "\n",
    "try:\n",
    "    gdf = gpd.read_file(\"E://files_pandas//sisver//muni_2018gw//muni_2018gw.shp\", encoding='utf-8')\n",
    "except UnicodeDecodeError:\n",
    "    gdf = gpd.read_file(\"E://files_pandas//sisver//muni_2018gw//muni_2018gw.shp\", encoding='latin-1')\n",
    "\n",
    "# SELECCIONAR SOLO HIDALGO\n",
    "hgo = gdf[gdf['NOM_ENT'] == 'Hidalgo']\n",
    "\n",
    "# Crear el mapa centrado en la ubicación media de los datos\n",
    "mapa = folium.Map(location=[data['LATITUD'].mean(), data['LONGITUD'].mean()], zoom_start=10)\n",
    "\n",
    "# Añadir capa de clúster\n",
    "marker_cluster = MarkerCluster().add_to(mapa)\n",
    "\n",
    "# Añadir puntos y círculos al mapa dentro de la capa de clúster\n",
    "for _, row in data.iterrows():\n",
    "    folium.Marker(\n",
    "        location=[row['LATITUD'], row['LONGITUD']],\n",
    "        popup=row['NOMBRE DE LA UNIDAD']\n",
    "    ).add_to(marker_cluster)\n",
    "    \n",
    "    folium.Circle(\n",
    "        location=[row['LATITUD'], row['LONGITUD']],\n",
    "        radius=500,  # en metros, puedes ajustar según lo necesites\n",
    "        color='#ADB5BD',\n",
    "        fill=True,\n",
    "        fill_color='#DEE2E6'\n",
    "    ).add_to(mapa)\n",
    "\n",
    "# Listas de municipios para cada jurisdicción\n",
    "municipios_dict = {\n",
    "    'Jurisdicción Tula': ['Ajacuba','Atitalaquia','Atotonilco de Tula','Tula de Allende','Tepeji del Río de Ocampo','Tepetitlán','Tetepango','Tezontepec de Aldama','Tlahuelilpan','Tlaxcoapan'],\n",
    "    'Jurisdicción Tulancingo': ['Acatlán','Acaxochitlán','Agua Blanca de Iturbide','Cuautepec de Hinojosa','Huehuetla','Metepec','San Bartolo Tutotepec','Santiago Tulantepec de Lugo Guerrero','Singuilucan','Tenango de Doria','Tulancingo de Bravo'],\n",
    "    'Jurisdicción Pachuca': ['Pachuca de Soto','San Agustín Tlaxiaca','Zapotlán de Juárez'],\n",
    "    'Jurisdicción Huejutla': ['Atlapexco','Calnali','Huautla','Huazalingo','Huejutla de Reyes','Jaltocán','Lolotla','San Felipe Orizatlán','Tlanchinol','Xochiatipan','Yahualica'],\n",
    "    'Jurisdicción Mineral': ['Epazoyucan','Mineral de la Reforma','Mineral del Chico','Omitlán de Juárez','Mineral del Monte','Huasca de Ocampo'],\n",
    "    'Jurisdicción Tizayuca': ['Villa de Tezontepec','Tolcayuca','Tizayuca','Zempoala'],\n",
    "    'Jurisdicción Actopan': ['Actopan','El Arenal','Francisco I. Madero','Mixquiahuala de Juárez','Progreso de Obregón','San Salvador','Santiago de Anaya'],\n",
    "    'Jurisdicción Ixmiquilpan': ['Alfajayucan','Cardonal','Chilcuautla','Ixmiquilpan','Nicolás Flores','Tasquillo','Zimapán'],\n",
    "    'Jurisdicción Molango': ['Atotonilco el Grande','Eloxochitlán','Juárez Hidalgo','Metztitlán','San Agustín Metzquititlán','Molango de Escamilla','Tepehuacán de Guerrero','Tianguistengo','Tlahuiltepa','Xochicoatlán','Zacualtipán de Ángeles'],\n",
    "    'Jurisdicción Apan': ['Almoloya', 'Apan','Emiliano Zapata','Tepeapulco','Tlanalapa'],\n",
    "    'Jurisdicción Huichapan': ['Chapantongo','Huichapan','Nopala de Villagrán','Tecozautla'],\n",
    "    'Jurisdicción Jacala': ['Chapulhuacán','Jacala de Ledezma','La Misión','Pacula','Pisaflores']\n",
    "}\n",
    "\n",
    "# Colores para cada jurisdicción\n",
    "colores = {\n",
    "    'Jurisdicción Tula': '#52796F', 'Jurisdicción Tulancingo': '#3f37c9', 'Jurisdicción Pachuca': '#4cc9f0', 'Jurisdicción Huejutla': '#ffd60a', 'Jurisdicción Mineral': '#343A40',\n",
    "    'Jurisdicción Tizayuca': '#354F52', 'Jurisdicción Actopan': '#f28482', 'Jurisdicción Ixmiquilpan': '#d80032', 'Jurisdicción Molango': '#db7c26', 'Jurisdicción Apan': '#274c77',\n",
    "    'Jurisdicción Huichapan': '#eddea4', 'Jurisdicción Jacala': '#00afb9'\n",
    "}\n",
    "\n",
    "# Agrupar municipios y añadir capas de cada jurisdicción\n",
    "for nombre_jurisdiccion, municipios in municipios_dict.items():\n",
    "    grupo = folium.FeatureGroup(name=nombre_jurisdiccion)\n",
    "    for municipio in municipios:\n",
    "        folium.GeoJson(\n",
    "            hgo[hgo['NOM_MUN'] == municipio],\n",
    "            style_function=lambda feature, color=colores[nombre_jurisdiccion]: {\n",
    "                'fillColor': color,\n",
    "                'color': color,\n",
    "                'weight': 2,\n",
    "                'fillOpacity': 0.5,\n",
    "                'opacity': 0.7,\n",
    "                'lineCap': 'round',\n",
    "                'lineJoin': 'round'\n",
    "            }\n",
    "        ).add_to(grupo)\n",
    "    grupo.add_to(mapa)\n",
    "\n",
    "# Añadir controles de capas\n",
    "folium.LayerControl().add_to(mapa)\n",
    "\n",
    "title_html = ''' <h3 align=\"center\" style=\"font-size:20px\"><b>Mapa de Unidades de salud Hidalgo</b></h3> '''\n",
    "mapa.get_root().html.add_child(folium.Element(title_html))\n",
    "# Guardar el mapa en un archivo HTML\n",
    "mapa.save('E://files_pandas//sisver//mapa_localidades.html')\n",
    "\n",
    "# Mostrar mensaje de éxito\n",
    "print(\"El mapa se ha guardado exitosamente en 'mapa_localidades.html'\")\n"
   ]
  }
 ],
 "metadata": {
  "kernelspec": {
   "display_name": "pandas",
   "language": "python",
   "name": "python3"
  },
  "language_info": {
   "codemirror_mode": {
    "name": "ipython",
    "version": 3
   },
   "file_extension": ".py",
   "mimetype": "text/x-python",
   "name": "python",
   "nbconvert_exporter": "python",
   "pygments_lexer": "ipython3",
   "version": "3.12.6"
  }
 },
 "nbformat": 4,
 "nbformat_minor": 2
}
