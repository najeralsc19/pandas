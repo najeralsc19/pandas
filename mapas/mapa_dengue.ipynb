{
 "cells": [
  {
   "cell_type": "code",
   "execution_count": 10,
   "metadata": {},
   "outputs": [],
   "source": [
    "import pandas as pd\n",
    "import unicodedata"
   ]
  },
  {
   "cell_type": "markdown",
   "metadata": {},
   "source": [
    "Cargar archivo, cambiar el nombre de la columna "
   ]
  },
  {
   "cell_type": "code",
   "execution_count": 13,
   "metadata": {},
   "outputs": [
    {
     "name": "stdout",
     "output_type": "stream",
     "text": [
      "Index(['CLUES', 'NOMBRE DE LA UNIDAD', 'NOMBRE DEL MUNICIPIO',\n",
      "       'CLAVE DEL MUNICIPIO', 'NOMBRE DE LA LOCALIDAD',\n",
      "       'CLAVE DE LA LOCALIDAD', 'NOMBRE DE LA JURISDICCIÓN',\n",
      "       'CLAVE DE LA JURIS', 'NOMBRE DE TIPOLOGIA', 'CLAVE DE TIPOLOGIA',\n",
      "       'TIPO DE VIALIDAD', 'VIALIDAD', 'NUMERO EXTERIOR', 'NUMERO INTERIOR',\n",
      "       'TIPO DE ASENTAMIENTO', 'ASENTAMIENTO', 'OBSERVACIONES DE LA DIRECCION',\n",
      "       'CODIGO POSTAL', 'LATITUD', 'LONGITUD'],\n",
      "      dtype='object')\n",
      "Index(['FOL_ID', 'IDE_ID', 'CVE_INF', 'VEC_ID', 'IDE_NOM', 'IDE_APE_PAT',\n",
      "       'IDE_APE_MAT', 'RFC', 'CURP', 'IDE_FEC_NAC', 'CVE_EDO_NAC',\n",
      "       'DES_EDO_NAC', 'CVE_MPO_NAC', 'DES_MPO_NAC', 'IDE_SEX', 'IDE_EDA_ANO',\n",
      "       'IDE_EDA_MES', 'IDE_EDA_DIA', 'DES_CAL', 'IDE_CAL', 'NUM_INT',\n",
      "       'NUM_EXT', 'IDE_COL', 'CVE_EDO_RES', 'DES_EDO_RES', 'CVE_JUR_RES',\n",
      "       'DES_JUR_RES', 'CVE_MPO_RES', 'DES_MPO_RES', 'CVE_LOC_RES',\n",
      "       'DES_LOC_RES', 'IDE_TEL', 'IDE_CALLE1', 'IDE_CP', 'ES_INDIGENA',\n",
      "       'LENGUA_INDIGENA', 'CUAL_LENGUA', 'DES_CUAL_LENGUA', 'CVE_OCUPACION',\n",
      "       'DES_OCUPACION', 'ESTATUS_CASO', 'EXPEDIENTE', 'CVE_EDO_TRABAJO',\n",
      "       'CLUES', 'DES_UNI_MED_NOTIF', 'CVE_EDO_UNIDAD', 'DES_EDO_UNIDAD',\n",
      "       'DES_JUR_UNIDAD', 'DES_MPO_UNIDAD', 'DES_INS_UNIDAD', 'FEC_NOTIF_DGE',\n",
      "       'DES_DIAG_FINAL', 'FEC_INI_SIGNOS_SINT', 'SEM', 'EMBARAZO', 'SEM_GEST',\n",
      "       'Quinquenios'],\n",
      "      dtype='object')\n"
     ]
    }
   ],
   "source": [
    "unid_den = pd.read_excel('E://files_pandas//dengue//Dengue_Hgo.xlsx')\n",
    "unid_den = unid_den.rename(columns={'CVE_UNI_MED_NOTIF': 'CLUES'})\n",
    "unidades = pd.read_excel('E://files_pandas//dengue//unidades.xlsx')\n",
    "\n",
    "print(unidades.columns)\n",
    "print(unid_den.columns)"
   ]
  },
  {
   "cell_type": "code",
   "execution_count": 12,
   "metadata": {},
   "outputs": [],
   "source": [
    "data_merge = pd.merge(\n",
    "    unid_den,\n",
    "    unidades[['CLUES', 'LATITUD', 'LONGITUD']],\n",
    "    on='CLUES',\n",
    "    how='left',\n",
    "    suffixes=('','_unidades')\n",
    ")"
   ]
  }
 ],
 "metadata": {
  "kernelspec": {
   "display_name": "pandas",
   "language": "python",
   "name": "python3"
  },
  "language_info": {
   "codemirror_mode": {
    "name": "ipython",
    "version": 3
   },
   "file_extension": ".py",
   "mimetype": "text/x-python",
   "name": "python",
   "nbconvert_exporter": "python",
   "pygments_lexer": "ipython3",
   "version": "3.12.6"
  }
 },
 "nbformat": 4,
 "nbformat_minor": 2
}
