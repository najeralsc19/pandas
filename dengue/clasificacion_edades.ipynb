{
 "cells": [
  {
   "cell_type": "code",
   "execution_count": 6,
   "metadata": {},
   "outputs": [],
   "source": [
    "import pandas as pd\n",
    "import openpyxl # type: ignore\n",
    "import unicodedata"
   ]
  },
  {
   "cell_type": "markdown",
   "metadata": {},
   "source": [
    "Funciones"
   ]
  },
  {
   "cell_type": "code",
   "execution_count": 4,
   "metadata": {},
   "outputs": [],
   "source": [
    "# Función para limpiar valores\n",
    "def limpiar_valores(value):\n",
    "    if isinstance(value, str):\n",
    "        value = unicodedata.normalize('NFKD', value).encode('ascii', errors='ignore').decode('utf-8')\n",
    "        value = value.strip()\n",
    "    elif pd.isnull(value):\n",
    "        # Sustituir null por un espacio en blanco\n",
    "        value = ''\n",
    "    return value\n",
    "\n",
    "# Función para clasificar en quinquenios\n",
    "def clasificar(edad):\n",
    "    if pd.isna(edad):\n",
    "        return \"desconocido\"\n",
    "    inicio = (edad // 5) * 5\n",
    "    fin = inicio + 4\n",
    "    return f'{inicio}-{fin}'"
   ]
  },
  {
   "cell_type": "code",
   "execution_count": 7,
   "metadata": {},
   "outputs": [
    {
     "name": "stderr",
     "output_type": "stream",
     "text": [
      "C:\\Users\\najer\\AppData\\Local\\Temp\\ipykernel_16220\\859555970.py:3: FutureWarning: DataFrame.applymap has been deprecated. Use DataFrame.map instead.\n",
      "  df = df.applymap(limpiar_valores)\n"
     ]
    }
   ],
   "source": [
    "# Cargar el archivo Excel y limpiar valores\n",
    "df = pd.read_excel(\"E://files_pandas//dengue//DENGUE141024.xlsx\")\n",
    "df = df.applymap(limpiar_valores)\n",
    "\n",
    "# Filtrar valores específicos\n",
    "df = df[df[\"DES_INS_UNIDAD\"].str.strip().isin([\"IMSS_OPD\", \"SSA\"])]\n"
   ]
  },
  {
   "cell_type": "code",
   "execution_count": null,
   "metadata": {},
   "outputs": [],
   "source": [
    "import pandas as pd\n",
    "import folium\n",
    "import re\n",
    "\n",
    "# Función para convertir de DMS a decimal\n",
    "def dms_to_decimal(dms):\n",
    "    # Usar regex para extraer los componentes de grados, minutos, y segundos\n",
    "    parts = re.split('[°\\'\"]+', dms)\n",
    "    if len(parts) == 4:\n",
    "        degrees, minutes, seconds, direction = parts\n",
    "    else:\n",
    "        degrees, minutes, seconds = parts\n",
    "        direction = dms[-1]\n",
    "    \n",
    "    decimal = float(degrees) + float(minutes)/60 + float(seconds)/3600\n",
    "    if direction in ['S', 'W']:\n",
    "        decimal = -decimal\n",
    "    return decimal\n",
    "\n",
    "# Cargar el archivo CSV\n",
    "data = pd.read_csv(\"E://files_pandas//sisver//AGEEML_202410311056515.csv\")\n",
    "\n",
    "# Filtrar y seleccionar columnas necesarias\n",
    "data = data[data['NOM_ENT'] == \"Hidalgo\"]\n",
    "data = data[['NOM_LOC', 'LATITUD', 'LONGITUD']]\n",
    "data = data.dropna(subset=['NOM_LOC', 'LATITUD', 'LONGITUD'])\n",
    "\n",
    "# Convertir las coordenadas\n",
    "data['LATITUD'] = data['LATITUD'].apply(dms_to_decimal)\n",
    "data['LONGITUD'] = data['LONGITUD'].apply(dms_to_decimal)\n",
    "\n",
    "# Crear el mapa centrado en la ubicación media de los datos\n",
    "mapa = folium.Map(location=[data['LATITUD'].mean(), data['LONGITUD'].mean()], zoom_start=12)\n",
    "\n",
    "# Añadir puntos al mapa\n",
    "for _, row in data.iterrows():\n",
    "    folium.Marker(\n",
    "        location=[row['LATITUD'], row['LONGITUD']],\n",
    "        popup=row['NOM_LOC']\n",
    "    ).add_to(mapa)\n",
    "\n",
    "# Guardar el mapa en un archivo HTML\n",
    "mapa.save('mapa_localidades.html')\n",
    "\n",
    "# Mostrar mensaje de éxito\n",
    "print(\"El mapa se ha guardado exitosamente en 'mapa_localidades.html'\")\n"
   ]
  }
 ],
 "metadata": {
  "kernelspec": {
   "display_name": "pandas",
   "language": "python",
   "name": "python3"
  },
  "language_info": {
   "codemirror_mode": {
    "name": "ipython",
    "version": 3
   },
   "file_extension": ".py",
   "mimetype": "text/x-python",
   "name": "python",
   "nbconvert_exporter": "python",
   "pygments_lexer": "ipython3",
   "version": "3.12.6"
  }
 },
 "nbformat": 4,
 "nbformat_minor": 2
}
