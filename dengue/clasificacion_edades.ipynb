{
 "cells": [
  {
   "cell_type": "code",
   "execution_count": 6,
   "metadata": {},
   "outputs": [],
   "source": [
    "import pandas as pd\n",
    "import openpyxl # type: ignore\n",
    "import unicodedata"
   ]
  },
  {
   "cell_type": "markdown",
   "metadata": {},
   "source": [
    "Funciones"
   ]
  },
  {
   "cell_type": "code",
   "execution_count": 4,
   "metadata": {},
   "outputs": [],
   "source": [
    "# Función para limpiar valores\n",
    "def limpiar_valores(value):\n",
    "    if isinstance(value, str):\n",
    "        value = unicodedata.normalize('NFKD', value).encode('ascii', errors='ignore').decode('utf-8')\n",
    "        value = value.strip()\n",
    "    elif pd.isnull(value):\n",
    "        # Sustituir null por un espacio en blanco\n",
    "        value = ''\n",
    "    return value\n",
    "\n",
    "# Función para clasificar en quinquenios\n",
    "def clasificar(edad):\n",
    "    if pd.isna(edad):\n",
    "        return \"desconocido\"\n",
    "    inicio = (edad // 5) * 5\n",
    "    fin = inicio + 4\n",
    "    return f'{inicio}-{fin}'"
   ]
  },
  {
   "cell_type": "code",
   "execution_count": 7,
   "metadata": {},
   "outputs": [
    {
     "name": "stderr",
     "output_type": "stream",
     "text": [
      "C:\\Users\\najer\\AppData\\Local\\Temp\\ipykernel_16220\\859555970.py:3: FutureWarning: DataFrame.applymap has been deprecated. Use DataFrame.map instead.\n",
      "  df = df.applymap(limpiar_valores)\n"
     ]
    }
   ],
   "source": [
    "# Cargar el archivo Excel y limpiar valores\n",
    "df = pd.read_excel(\"E://files_pandas//dengue//DENGUE141024.xlsx\")\n",
    "df = df.applymap(limpiar_valores)\n",
    "\n",
    "# Filtrar valores específicos\n",
    "df = df[df[\"DES_INS_UNIDAD\"].str.strip().isin([\"IMSS_OPD\", \"SSA\"])]\n"
   ]
  }
 ],
 "metadata": {
  "kernelspec": {
   "display_name": "pandas",
   "language": "python",
   "name": "python3"
  },
  "language_info": {
   "codemirror_mode": {
    "name": "ipython",
    "version": 3
   },
   "file_extension": ".py",
   "mimetype": "text/x-python",
   "name": "python",
   "nbconvert_exporter": "python",
   "pygments_lexer": "ipython3",
   "version": "3.12.6"
  }
 },
 "nbformat": 4,
 "nbformat_minor": 2
}
