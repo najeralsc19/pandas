{
 "cells": [
  {
   "cell_type": "code",
   "execution_count": 19,
   "metadata": {},
   "outputs": [],
   "source": [
    "import pandas as pd\n",
    "\n",
    "file1 = (\"E://files_pandas//varios//ESTABLECIMIENTO_SALUD_202409.xlsx\")\n",
    "sheet = 'CLUES_202410'\n",
    "clues_base = pd.read_excel(file1, sheet_name=sheet)\n",
    "clues_base_imb = clues_base[\n",
    "    (clues_base['CLAVE DE LA ENTIDAD'] == 13) & \n",
    "    (clues_base['ESTATUS DE OPERACION'] == 'EN OPERACION') & \n",
    "    (clues_base['CLAVE DE LA INSTITUCION'] == 'IMB')]\n",
    "\n",
    "clues_base_coord = clues_base_imb[['CLUES','NOMBRE DE LA UNIDAD','LATITUD','LONGITUD']]\n",
    "\n",
    "clues_ssa = clues_base[\n",
    "    (clues_base['CLAVE DE LA ENTIDAD']== 13) &\n",
    "    (clues_base['CLAVE DE LA INSTITUCION'] == 'SSA') & \n",
    "    (clues_base['COMENTARIOS DE LA VALIDACION'] == 'POR CAMBIO DE INSTITUCION, SE TRANSFIERE A SERVICIOS DE SALUD IMSS BIENESTAR')\n",
    "]\n",
    "\n",
    "clues_ssa_coord = clues_ssa[['CLUES','NOMBRE DE LA UNIDAD','LATITUD','LONGITUD']]\n",
    "\n",
    "\n"
   ]
  },
  {
   "cell_type": "code",
   "execution_count": null,
   "metadata": {},
   "outputs": [],
   "source": [
    "\n",
    "clues_merge = pd.merge(\n",
    "    clues_base_coord,\n",
    "    clues_ssa_coord[['CLUES','NOMBRE DE LA UNIDAD']],\n",
    "    on='NOMBRE DE LA UNIDAD',\n",
    "    how='left',\n",
    "    suffixes=('','_SSA')\n",
    ")\n",
    "\n",
    "columnas = ['CLUES', 'CLUES_SSA', 'NOMBRE DE LA UNIDAD','LATITUD', 'LONGITUD']\n",
    "final_df = clues_merge[columnas]\n",
    "\n"
   ]
  },
  {
   "cell_type": "code",
   "execution_count": 30,
   "metadata": {},
   "outputs": [],
   "source": [
    "unid_den = pd.read_excel('E://files_pandas//dengue//Dengue_Hgo.xlsx')\n",
    "\n",
    "unid_den = unid_den.rename(columns={'CVE_UNI_MED_NOTIF':'CLUES_SSA'})\n",
    "\n",
    "coord_merge = pd.merge(\n",
    "    unid_den,\n",
    "    final_df[['CLUES_SSA','LATITUD', 'LONGITUD']],\n",
    "    on = 'CLUES_SSA',\n",
    "    how= 'left',\n",
    "    suffixes=('','_LOC')\n",
    "    \n",
    ")\n",
    "\n",
    "df_unicos = coord_merge.drop_duplicates(subset=['LATITUD', 'LONGITUD'])\n",
    "df_unicos = df_unicos.dropna(subset=['LATITUD', 'LONGITUD'])"
   ]
  },
  {
   "cell_type": "code",
   "execution_count": null,
   "metadata": {},
   "outputs": [],
   "source": [
    "\n",
    "import folium\n",
    "from folium.plugins import MarkerCluster\n",
    "import folium\n",
    "from folium.plugins import MarkerCluster\n",
    "from folium.plugins import HeatMap\n",
    "from folium import LayerControl\n",
    "import geopandas as gpd\n",
    "\n",
    "try:\n",
    "    gdf = gpd.read_file(\"E://files_pandas//sisver//muni_2018gw//muni_2018gw.shp\", encoding='utf-8')\n",
    "except UnicodeDecodeError:\n",
    "    gdf = gpd.read_file(\"E://files_pandas//sisver//muni_2018gw//muni_2018gw.shp\", encoding='latin-1')\n",
    "#SELECCIONAR SOLO HIDALGO \n",
    "hgo = gdf[gdf['NOM_ENT'] == 'Hidalgo']\n",
    "\n",
    "\n",
    "mapa = folium.Map(location=[df_unicos['LATITUD'].mean(), df_unicos['LONGITUD'].mean()], zoom_start=10)\n",
    "heat_data = [[row['LATITUD'], row['LONGITUD'], row['VALOR']] for index, row in df_unicos.iterrows()]\n",
    "\n",
    "# Añadir el HeatMap al mapa \n",
    "HeatMap(heat_data).add_to(mapa) # Guardar el mapa en un archivo HTML \n",
    "mapa.save('E://files_pandas//dengue//mapa_calor.html')\n",
    "\n",
    "\n"
   ]
  }
 ],
 "metadata": {
  "kernelspec": {
   "display_name": "pandas",
   "language": "python",
   "name": "python3"
  },
  "language_info": {
   "codemirror_mode": {
    "name": "ipython",
    "version": 3
   },
   "file_extension": ".py",
   "mimetype": "text/x-python",
   "name": "python",
   "nbconvert_exporter": "python",
   "pygments_lexer": "ipython3",
   "version": "3.12.6"
  }
 },
 "nbformat": 4,
 "nbformat_minor": 2
}
